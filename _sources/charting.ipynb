{
 "cells": [
  {
   "cell_type": "markdown",
   "id": "f69abc93",
   "metadata": {},
   "source": [
    "![](charts/AUD-NZD_D1.png)\n",
    "![](charts/AUD-NZD_H1.png)\n",
    "![](charts/AUD-NZD_H4.png)\n",
    "![](charts/AUD-NZD_m15.png)\n",
    "![](charts/AUD-NZD_M1.png)\n",
    "![](charts/AUD-NZD_m5.png)\n",
    "![](charts/AUD-NZD_W1.png)"
   ]
  }
 ],
 "metadata": {
  "jupytext": {
   "cell_metadata_filter": "-all",
   "formats": "md:myst",
   "text_representation": {
    "extension": ".md",
    "format_name": "myst",
    "format_version": 0.13,
    "jupytext_version": "1.16.4"
   }
  },
  "kernelspec": {
   "display_name": "Python 3 (ipykernel)",
   "language": "python",
   "name": "python3"
  },
  "language_info": {
   "codemirror_mode": {
    "name": "ipython",
    "version": 3
   },
   "file_extension": ".py",
   "mimetype": "text/x-python",
   "name": "python",
   "nbconvert_exporter": "python",
   "pygments_lexer": "ipython3",
   "version": "3.10.14"
  },
  "source_map": [
   14
  ]
 },
 "nbformat": 4,
 "nbformat_minor": 5
}